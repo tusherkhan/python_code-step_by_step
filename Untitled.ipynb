{
 "cells": [
  {
   "cell_type": "code",
   "execution_count": null,
   "metadata": {},
   "outputs": [],
   "source": [
    "# Python language supports the following types of operators"
   ]
  },
  {
   "cell_type": "code",
   "execution_count": 9,
   "metadata": {},
   "outputs": [],
   "source": [
    "#Arithmetic Operators #Familiar operators #Unfamiliar operators\n",
    "#familiar (with these basic arithmetic operators in maths like\n",
    "#addition (+), subtraction (-), multiplication (*) and division (/).)\n",
    "#{suppose we have two variable a and b. we assigned them with values as a=10 and b=20\n",
    "#Add operator(+)adds values on either side of the operator(a+b=30)\n",
    "#subtract operator(-)subtract right hand operand from left hand operand(a-b=10)\n",
    "#Multiplication operator(*)multiple values on either side of the operator(a*b=200)\n",
    "#Division operator(/) divides left hand operand by right hand operand(b/2=2)}\n",
    "#Comparison (Relational) Operators\n",
    "#Assignment Operators\n",
    "#Logical Operators\n",
    "#Bitwise Operators\n",
    "#Membership Operators\n",
    "#Identity Operators"
   ]
  },
  {
   "cell_type": "markdown",
   "metadata": {},
   "source": [
    "# Arithmetic Operators"
   ]
  },
  {
   "cell_type": "code",
   "execution_count": 2,
   "metadata": {},
   "outputs": [],
   "source": [
    "var1 = 36\n",
    "var2 =14"
   ]
  },
  {
   "cell_type": "code",
   "execution_count": 3,
   "metadata": {},
   "outputs": [
    {
     "name": "stdout",
     "output_type": "stream",
     "text": [
      "50\n"
     ]
    }
   ],
   "source": [
    "result = var1+var2\n",
    "print(result)#by using + operator between them it will give us the integer\n",
    "#value follows"
   ]
  },
  {
   "cell_type": "code",
   "execution_count": 6,
   "metadata": {},
   "outputs": [],
   "source": [
    "integer=1.5\n",
    "float=2.5\n",
    "result_of_both=integer+float"
   ]
  },
  {
   "cell_type": "code",
   "execution_count": 8,
   "metadata": {},
   "outputs": [
    {
     "name": "stdout",
     "output_type": "stream",
     "text": [
      "4.0\n"
     ]
    }
   ],
   "source": [
    "print(result_of_both)# whenever there is any float value in the expression\n",
    "# the reult will be in float"
   ]
  },
  {
   "cell_type": "markdown",
   "metadata": {},
   "source": [
    "# Multiplication operator also works same as add operator."
   ]
  },
  {
   "cell_type": "code",
   "execution_count": 10,
   "metadata": {},
   "outputs": [
    {
     "name": "stdout",
     "output_type": "stream",
     "text": [
      "6\n"
     ]
    }
   ],
   "source": [
    "a=2\n",
    "b=3\n",
    "mul=a*b\n",
    "print(mul)"
   ]
  },
  {
   "cell_type": "code",
   "execution_count": 11,
   "metadata": {},
   "outputs": [],
   "source": [
    "var11=100\n",
    "var12=100"
   ]
  },
  {
   "cell_type": "code",
   "execution_count": 13,
   "metadata": {},
   "outputs": [
    {
     "name": "stdout",
     "output_type": "stream",
     "text": [
      "1.0\n"
     ]
    }
   ],
   "source": [
    "result=var11/var12#Well, you might think that 100 is divided by same number 100 ,so the answer\n",
    "#should equals to 1.But when we divide them it will give us the result in data\n",
    "print(result)#type float as follows .it is because python by default do floating point division"
   ]
  },
  {
   "cell_type": "markdown",
   "metadata": {},
   "source": [
    "# Removing ambiguity"
   ]
  },
  {
   "cell_type": "code",
   "execution_count": 16,
   "metadata": {},
   "outputs": [
    {
     "name": "stdout",
     "output_type": "stream",
     "text": [
      "9\n"
     ]
    }
   ],
   "source": [
    "result= 2+3*4-5 #this how python follow 2+(3*4)-5\n",
    "print(result)"
   ]
  },
  {
   "cell_type": "code",
   "execution_count": 18,
   "metadata": {},
   "outputs": [
    {
     "data": {
      "text/plain": [
       "62"
      ]
     },
     "execution_count": 18,
     "metadata": {},
     "output_type": "execute_result"
    }
   ],
   "source": [
    "2+((4*5)*3) # another example"
   ]
  },
  {
   "cell_type": "markdown",
   "metadata": {},
   "source": [
    "# unfamiliar arithmetic operator"
   ]
  },
  {
   "cell_type": "code",
   "execution_count": 19,
   "metadata": {},
   "outputs": [],
   "source": [
    "var11 = 100\n",
    "var12 = 100"
   ]
  },
  {
   "cell_type": "code",
   "execution_count": 23,
   "metadata": {},
   "outputs": [
    {
     "name": "stdout",
     "output_type": "stream",
     "text": [
      "1 {this is called floor division}\n"
     ]
    }
   ],
   "source": [
    "result=var11//var12#We see above that by dividing one integer to another integer will give us the\n",
    "#result in float data type. If we want our answer in integer data type we will\n",
    "print(result, \"{this is called floor division}\")#use // operator .This division is called integer division. Recall the previous\n",
    "#example, "
   ]
  },
  {
   "cell_type": "code",
   "execution_count": 24,
   "metadata": {},
   "outputs": [],
   "source": [
    "# the // operator discard the decimal part of the value. for example,\n",
    "x=9\n",
    "y=10"
   ]
  },
  {
   "cell_type": "code",
   "execution_count": 25,
   "metadata": {},
   "outputs": [
    {
     "name": "stdout",
     "output_type": "stream",
     "text": [
      "0\n"
     ]
    }
   ],
   "source": [
    "result=x//y\n",
    "print(result) # as, 9/10 is equal to 0.9.but look!"
   ]
  },
  {
   "cell_type": "markdown",
   "metadata": {},
   "source": [
    "# Modulus"
   ]
  },
  {
   "cell_type": "code",
   "execution_count": 29,
   "metadata": {},
   "outputs": [
    {
     "name": "stdout",
     "output_type": "stream",
     "text": [
      "0 {by dividing 10 by 5 the result is 0 because there is no remainder left}\n"
     ]
    }
   ],
   "source": [
    "a=10#This operator divides one number by another number, but does not gives you\n",
    "b=5#the result of the division. It gives you the remainder after dividing first\n",
    "result= a%b#number by the second number. First, we will declare two variables, a and b.\n",
    "print(result, \"{by dividing 10 by 5 the result is 0 because there is no remainder left}\")\n",
    "#After that we assigned them with integer values 10 and 5 as in the following,"
   ]
  },
  {
   "cell_type": "markdown",
   "metadata": {},
   "source": [
    "# Exponentiation"
   ]
  },
  {
   "cell_type": "code",
   "execution_count": 30,
   "metadata": {},
   "outputs": [
    {
     "name": "stdout",
     "output_type": "stream",
     "text": [
      "8\n"
     ]
    }
   ],
   "source": [
    "base=2#There are two values in this operator. The number to be multiplied by itself is\n",
    "exponent=3#called the base and the number of times it is to be multiplied is the exponent.\n",
    "result=base**exponent#We assigned them integer value 2 and 3.It will give us the result by\n",
    "print(result)#calculating 2 by the power of 3 as follows"
   ]
  },
  {
   "cell_type": "markdown",
   "metadata": {},
   "source": [
    "# Assignment operators"
   ]
  },
  {
   "cell_type": "code",
   "execution_count": 31,
   "metadata": {},
   "outputs": [
    {
     "name": "stdout",
     "output_type": "stream",
     "text": [
      "8 same as below\n"
     ]
    }
   ],
   "source": [
    "a=5#The original value of a, is 5 which adds 3 to it and prints the result. It works\n",
    "a+=3\n",
    "print(a,\"same as below\")"
   ]
  },
  {
   "cell_type": "code",
   "execution_count": 32,
   "metadata": {},
   "outputs": [
    {
     "name": "stdout",
     "output_type": "stream",
     "text": [
      "8\n"
     ]
    }
   ],
   "source": [
    "a=5\n",
    "a=a+3\n",
    "print(a)"
   ]
  },
  {
   "cell_type": "code",
   "execution_count": 33,
   "metadata": {},
   "outputs": [
    {
     "name": "stdout",
     "output_type": "stream",
     "text": [
      "8\n"
     ]
    }
   ],
   "source": [
    "a=5#Also, we can add some variable instead of using direct integer. Here we\n",
    "value_to_be_add=3#declare new variable value_to_be_add .We assign it with integer value 3.\n",
    "a+=value_to_be_add#Now we add new variable to the original variable a.\n",
    "print(a)"
   ]
  },
  {
   "cell_type": "markdown",
   "metadata": {},
   "source": [
    "# similarly , we can do other operation as above \n",
    "# for example"
   ]
  },
  {
   "cell_type": "code",
   "execution_count": 38,
   "metadata": {},
   "outputs": [
    {
     "name": "stdout",
     "output_type": "stream",
     "text": [
      "2 {only decimal number is use so float number is lol}\n"
     ]
    }
   ],
   "source": [
    "a=5\n",
    "a//=2\n",
    "print(a, \"{only decimal number is use so float number is lol}\")"
   ]
  },
  {
   "cell_type": "code",
   "execution_count": 39,
   "metadata": {},
   "outputs": [
    {
     "name": "stdout",
     "output_type": "stream",
     "text": [
      "2.5 {that time only float is used}\n"
     ]
    }
   ],
   "source": [
    "a =5\n",
    "a/=2\n",
    "print(a,\"{that time only float is used}\")"
   ]
  },
  {
   "cell_type": "code",
   "execution_count": 40,
   "metadata": {},
   "outputs": [
    {
     "name": "stdout",
     "output_type": "stream",
     "text": [
      "64\n"
     ]
    }
   ],
   "source": [
    "a=4\n",
    "a**=3\n",
    "print(a)"
   ]
  },
  {
   "cell_type": "code",
   "execution_count": 43,
   "metadata": {},
   "outputs": [
    {
     "name": "stdout",
     "output_type": "stream",
     "text": [
      " a++=, a--= does not works\n",
      "a=any value, a+=values,a*=2,a/=2,a%=2,a**=2,a//=2. only works in the operator\n"
     ]
    }
   ],
   "source": [
    "print(\" a++=, a--= does not works\")\n",
    "print(\"a=any value, a+=values,a*=2,a/=2,a%=2,a**=2,a//=2. only works in the operator\")"
   ]
  },
  {
   "cell_type": "code",
   "execution_count": 44,
   "metadata": {},
   "outputs": [
    {
     "name": "stdout",
     "output_type": "stream",
     "text": [
      "32\n"
     ]
    }
   ],
   "source": [
    "x = 0x66\n",
    "x &= 0x39\n",
    "print(x)"
   ]
  },
  {
   "cell_type": "code",
   "execution_count": 45,
   "metadata": {},
   "outputs": [
    {
     "name": "stdout",
     "output_type": "stream",
     "text": [
      "127\n"
     ]
    }
   ],
   "source": [
    "x=0x66\n",
    "x|=0x39\n",
    "print(x)"
   ]
  },
  {
   "cell_type": "code",
   "execution_count": null,
   "metadata": {},
   "outputs": [],
   "source": []
  }
 ],
 "metadata": {
  "kernelspec": {
   "display_name": "Python 3",
   "language": "python",
   "name": "python3"
  },
  "language_info": {
   "codemirror_mode": {
    "name": "ipython",
    "version": 3
   },
   "file_extension": ".py",
   "mimetype": "text/x-python",
   "name": "python",
   "nbconvert_exporter": "python",
   "pygments_lexer": "ipython3",
   "version": "3.7.4"
  }
 },
 "nbformat": 4,
 "nbformat_minor": 2
}
